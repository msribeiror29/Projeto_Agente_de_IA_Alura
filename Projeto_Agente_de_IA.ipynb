
{
  "nbformat": 4,
  "nbformat_minor": 0,
  "metadata": {
    "colab": {
      "provenance": [],
      "cell_execution_strategy": "setup"
    },
    "kernelspec": {
      "name": "python3",
      "display_name": "Python 3"
    },
    "language_info": {
      "name": "python"
    }
  },
  "cells": [
    {
      "cell_type": "code",
      "execution_count": 1,
      "metadata": {
        "colab": {
          "base_uri": "https://localhost:8080/"
        },
        "id": "qzcXjWThZVmw",
        "outputId": "d4e46127-ecfd-45ec-abe7-e42f2605ee2f"
      },
      "outputs": [
        {
          "output_type": "stream",
          "name": "stdout",
          "text": [
            "\u001b[2K   \u001b[90m━━━━━━━━━━━━━━━━━━━━━━━━━━━━━━━━━━━━━━━━\u001b[0m \u001b[32m1.2/1.2 MB\u001b[0m \u001b[31m15.3 MB/s\u001b[0m eta \u001b[36m0:00:00\u001b[0m\n",
            "\u001b[2K   \u001b[90m━━━━━━━━━━━━━━━━━━━━━━━━━━━━━━━━━━━━━━━━\u001b[0m \u001b[32m232.1/232.1 kB\u001b[0m \u001b[31m13.1 MB/s\u001b[0m eta \u001b[36m0:00:00\u001b[0m\n",
            "\u001b[2K   \u001b[90m━━━━━━━━━━━━━━━━━━━━━━━━━━━━━━━━━━━━━━━━\u001b[0m \u001b[32m95.2/95.2 kB\u001b[0m \u001b[31m6.2 MB/s\u001b[0m eta \u001b[36m0:00:00\u001b[0m\n",
            "\u001b[2K   \u001b[90m━━━━━━━━━━━━━━━━━━━━━━━━━━━━━━━━━━━━━━━━\u001b[0m \u001b[32m217.1/217.1 kB\u001b[0m \u001b[31m11.0 MB/s\u001b[0m eta \u001b[36m0:00:00\u001b[0m\n",
            "\u001b[2K   \u001b[90m━━━━━━━━━━━━━━━━━━━━━━━━━━━━━━━━━━━━━━━━\u001b[0m \u001b[32m334.1/334.1 kB\u001b[0m \u001b[31m14.3 MB/s\u001b[0m eta \u001b[36m0:00:00\u001b[0m\n",
            "\u001b[2K   \u001b[90m━━━━━━━━━━━━━━━━━━━━━━━━━━━━━━━━━━━━━━━━\u001b[0m \u001b[32m125.1/125.1 kB\u001b[0m \u001b[31m7.2 MB/s\u001b[0m eta \u001b[36m0:00:00\u001b[0m\n",
            "\u001b[2K   \u001b[90m━━━━━━━━━━━━━━━━━━━━━━━━━━━━━━━━━━━━━━━━\u001b[0m \u001b[32m65.8/65.8 kB\u001b[0m \u001b[31m3.2 MB/s\u001b[0m eta \u001b[36m0:00:00\u001b[0m\n",
            "\u001b[2K   \u001b[90m━━━━━━━━━━━━━━━━━━━━━━━━━━━━━━━━━━━━━━━━\u001b[0m \u001b[32m119.0/119.0 kB\u001b[0m \u001b[31m7.3 MB/s\u001b[0m eta \u001b[36m0:00:00\u001b[0m\n",
            "\u001b[2K   \u001b[90m━━━━━━━━━━━━━━━━━━━━━━━━━━━━━━━━━━━━━━━━\u001b[0m \u001b[32m194.9/194.9 kB\u001b[0m \u001b[31m10.7 MB/s\u001b[0m eta \u001b[36m0:00:00\u001b[0m\n",
            "\u001b[2K   \u001b[90m━━━━━━━━━━━━━━━━━━━━━━━━━━━━━━━━━━━━━━━━\u001b[0m \u001b[32m62.5/62.5 kB\u001b[0m \u001b[31m3.2 MB/s\u001b[0m eta \u001b[36m0:00:00\u001b[0m\n",
            "\u001b[2K   \u001b[90m━━━━━━━━━━━━━━━━━━━━━━━━━━━━━━━━━━━━━━━━\u001b[0m \u001b[32m103.3/103.3 kB\u001b[0m \u001b[31m6.1 MB/s\u001b[0m eta \u001b[36m0:00:00\u001b[0m\n",
            "\u001b[2K   \u001b[90m━━━━━━━━━━━━━━━━━━━━━━━━━━━━━━━━━━━━━━━━\u001b[0m \u001b[32m44.4/44.4 kB\u001b[0m \u001b[31m2.7 MB/s\u001b[0m eta \u001b[36m0:00:00\u001b[0m\n",
            "\u001b[2K   \u001b[90m━━━━━━━━━━━━━━━━━━━━━━━━━━━━━━━━━━━━━━━━\u001b[0m \u001b[32m72.0/72.0 kB\u001b[0m \u001b[31m4.1 MB/s\u001b[0m eta \u001b[36m0:00:00\u001b[0m\n",
            "\u001b[?25h"
          ]
        }
      ],
      "source": [
        "!pip install -q google-adk"
      ]
    },
    {
      "cell_type": "code",
      "source": [
        "# (Código para instalação de bibliotecas e configuração da API - já presente no seu notebook)\n",
        "\n",
        "import os\n",
        "from google.colab import userdata\n",
        "os.environ[\"GOOGLE_API_KEY\"] = userdata.get('GOOGLE_API_KEY')"
      ],
      "metadata": {
        "id": "CK9pSLAjZajX"
      },
      "execution_count": 2,
      "outputs": []
    },
    {
      "cell_type": "code",
      "source": [
        "from google import genai\n",
        "client = genai.Client()\n",
        "MODEL_ID = \"gemini-2.0-flash\"  # Ou outro modelo adequado\n",
        "\n",
        "from google.adk.agents import Agent\n",
        "from google.adk.runners import Runner\n",
        "from google.adk.sessions import InMemorySessionService\n",
        "from google.adk.tools import google_search\n",
        "from google.genai import types\n",
        "from datetime import date\n",
        "import textwrap\n",
        "from IPython.display import display, Markdown\n",
        "import warnings\n",
        "warnings.filterwarnings(\"ignore\")\n",
        "\n",
        "# Função para chamar o agente\n",
        "# Função auxiliar que envia uma mensagem para um agente via Runner e retorna a resposta final\n",
        "def call_agent(agent: Agent, message_text: str) -> str:\n",
        "    # Cria um serviço de sessão em memória\n",
        "    session_service = InMemorySessionService()\n",
        "    # Cria uma nova sessão (você pode personalizar os IDs conforme necessário)\n",
        "    session = session_service.create_session(app_name=agent.name, user_id=\"user1\", session_id=\"session1\")\n",
        "    # Cria um Runner para o agente\n",
        "    runner = Runner(agent=agent, app_name=agent.name, session_service=session_service)\n",
        "    # Cria o conteúdo da mensagem de entrada\n",
        "    content = types.Content(role=\"user\", parts=[types.Part(text=message_text)])\n",
        "\n",
        "    final_response = \"\"\n",
        "    # Itera assincronamente pelos eventos retornados durante a execução do agente\n",
        "    for event in runner.run(user_id=\"user1\", session_id=\"session1\", new_message=content):\n",
        "        if event.is_final_response():\n",
        "          for part in event.content.parts:\n",
        "            if part.text is not None:\n",
        "              final_response += part.text\n",
        "              final_response += \"\\n\"\n",
        "    return final_response\n",
        "# Função para formatar a saída como Markdown\n",
        "def to_markdown(text):\n",
        "    text = text.replace('•', '* ')\n",
        "    return Markdown(textwrap.indent(text, '> ', predicate=lambda _: text))"
      ],
      "metadata": {
        "id": "sxUJCnBjZsP_"
      },
      "execution_count": 8,
      "outputs": []
    },
    {
      "cell_type": "code",
      "source": [
        "# --- Agente 1: Buscador de Notícias ---\n",
        "def agente_buscador_fraudes(topico, data_de_hoje):\n",
        "    buscador = Agent(\n",
        "        name=\"agente_buscador_fraudes\",\n",
        "        model=\"gemini-2.0-flash\",\n",
        "        instruction=\"\"\"\n",
        "        Você é um assistente de pesquisa especializado em golpes e fraudes.\n",
        "        A sua tarefa é usar a ferramenta de busca do Google (google_search)\n",
        "        para recuperar as últimas notícias, informações e dicas sobre o tópico abaixo.\n",
        "        Foque em identificar:\n",
        "        - Os tipos de golpes e fraudes mais comuns e recentes.\n",
        "        - Os métodos utilizados pelos golpistas.\n",
        "        - As formas de prevenção e proteção contra esses golpes.\n",
        "        - Notícias relevantes sobre golpes que tenham ocorrido recentemente.\n",
        "        Limite-se aos 5 resultados mais relevantes e confiáveis.\n",
        "        \"\"\",\n",
        "        description=\"Agente que busca informações sobre golpes e fraudes no Google\",\n",
        "        tools=[google_search],\n",
        "    )\n",
        "\n",
        "    entrada_do_agente_planejador = f\"Tópico: {topico}\\nData de hoje: {data_de_hoje}\"\n",
        "\n",
        "    informacoes = call_agent(buscador, entrada_do_agente_planejador)\n",
        "    return informacoes"
      ],
      "metadata": {
        "id": "IXIKIAm_Zt9x"
      },
      "execution_count": 9,
      "outputs": []
    },
    {
      "cell_type": "code",
      "source": [
        "# --- Agente 2: Educador ---\n",
        "def agente_educador_fraudes(topico, informacoes_buscadas):\n",
        "    educador = Agent(\n",
        "        name=\"agente_educador_fraudes\",\n",
        "        model=\"gemini-2.0-flash\",\n",
        "        instruction=\"\"\"\n",
        "        Você é um especialista em educação sobre golpes e fraudes online e offline.\n",
        "        Com base nas informações fornecidas pelo agente de busca, sua tarefa é criar um plano detalhado para uma série de posts educativos em redes sociais.\n",
        "\n",
        "        O plano deve incluir:\n",
        "\n",
        "        1.  Tema Central: Defina o tema central da série de posts (por exemplo, \"Golpes do Pix\", \"Phishing\", \"Fraudes em Investimentos\").\n",
        "        2.  Tópicos Específicos: Divida o tema central em tópicos específicos e relevantes para cada post individual.\n",
        "            Exemplos de tópicos:\n",
        "            -   Como identificar um golpe.\n",
        "            -   Os sinais de alerta de uma fraude.\n",
        "            -   Dicas práticas para se proteger.\n",
        "            -   O que fazer se você for vítima de um golpe.\n",
        "            -   Exemplos de casos reais (se aplicável).\n",
        "        3.  Público-Alvo: Considere que o público-alvo principal são pessoas de todas as idades, com ênfase em idosos, que podem ser mais vulneráveis a golpes.\n",
        "        4.  Tom de Voz: Utilize um tom de voz claro, objetivo, informativo e empático. Evite jargões técnicos e adapte a linguagem para ser acessível a todos.\n",
        "        5.  Formato dos Posts: Sugira formatos adequados para diferentes redes sociais (por exemplo, posts curtos para o Twitter, posts mais longos para o Facebook, listas e infográficos para o Instagram).\n",
        "        6.  Chamada para Ação: Inclua sugestões de chamadas para ação para incentivar o engajamento do público (por exemplo, \"Compartilhe com seus amigos\", \"Deixe suas dúvidas nos comentários\", \"Acesse o link na bio para mais informações\").\n",
        "        7.  Uso de Recursos Visuais: Sugira o uso de recursos visuais (imagens, vídeos, infográficos) para tornar os posts mais atraentes e informativos.\n",
        "\n",
        "        Você pode usar a ferramenta de busca do Google (google_search) para obter mais informações sobre os golpes mencionados e encontrar exemplos ou estatísticas relevantes.\n",
        "\n",
        "        Ao final, retorne o plano detalhado, incluindo o tema central, os tópicos específicos, sugestões de formato e chamadas para ação.\n",
        "        \"\"\",\n",
        "        description=\"Agente que planeja conteúdo educativo sobre golpes e fraudes\",\n",
        "        tools=[google_search]\n",
        "    )\n",
        "\n",
        "    entrada_do_agente_educador = f\"Tópico: {topico}\\nInformações buscadas: {informacoes_buscadas}\"\n",
        "    plano_do_post = call_agent(educador, entrada_do_agente_educador)\n",
        "    return plano_do_post"
      ],
      "metadata": {
        "id": "sxjtBZ20ZzCF"
      },
      "execution_count": 10,
      "outputs": []
    },
    {
      "cell_type": "code",
      "source": [
        "# --- Agente 3: Redator de Posts para Redes Sociais ---\n",
        "def agente_redator_redes_sociais(topico, plano_de_post):\n",
        "    redator = Agent(\n",
        "        name=\"agente_redator_redes_sociais\",\n",
        "        model=\"gemini-2.0-flash\",  # Ou um modelo mais adequado para geração de texto\n",
        "        instruction=\"\"\"\n",
        "            Você é um redator criativo e persuasivo, especializado em criar posts informativos e engajadores sobre golpes e fraudes para diversas redes sociais.\n",
        "            Com base no plano de post fornecido, sua tarefa é gerar posts escritos adaptados para cada plataforma.\n",
        "\n",
        "            O plano de post conterá o tema central, os tópicos específicos e sugestões de formato para cada rede social.\n",
        "            Você deve seguir as seguintes diretrizes:\n",
        "\n",
        "            1.  Tom de Voz: Utilize um tom de voz claro, conciso, informativo e amigável. Adapte o tom para ser adequado ao público de cada plataforma (por exemplo, mais informal no Twitter, mais explicativo no Facebook).\n",
        "            2.  Linguagem: Use linguagem acessível, evitando jargões técnicos. Explique conceitos complexos de forma simples e fácil de entender.\n",
        "            3.  Engajamento: Crie posts que incentivem a interação do público (perguntas, chamadas para ação, etc.).\n",
        "            4.  Formato: Siga as sugestões de formato do plano de post para cada rede social:\n",
        "                -   Twitter: Posts curtos e concisos (máximo de 280 caracteres), com foco em informações essenciais e chamadas para ação. Use hashtags relevantes.\n",
        "                -   Facebook: Posts mais longos e explicativos, com detalhes sobre o golpe, dicas de prevenção e links para fontes confiáveis.\n",
        "                -   Instagram: Legendas informativas e envolventes para posts visuais (imagens ou vídeos). Use emojis e hashtags relevantes.\n",
        "                -   Outras Redes: Se o plano incluir outras redes, adapte o formato e o estilo de acordo.\n",
        "            5.  Precisão: Garanta que as informações fornecidas sejam precisas e atualizadas. Consulte fontes confiáveis se necessário.\n",
        "            6.  Chamada para Ação: Inclua chamadas para ação claras e relevantes (por exemplo, \"Compartilhe com seus amigos\", \"Acesse o link na bio para saber mais\", \"Deixe suas dúvidas nos comentários\").\n",
        "\n",
        "            Gere um post para cada rede social especificada no plano.\n",
        "            \"\"\",\n",
        "        description=\"Agente redator de posts informativos e engajadores sobre golpes e fraudes para redes sociais\",\n",
        "    )\n",
        "    entrada_do_agente_redator = f\"Tópico: {topico}\\nPlano de post: {plano_de_post}\"\n",
        "    posts_redes_sociais = call_agent(redator, entrada_do_agente_redator)\n",
        "    return posts_redes_sociais"
      ],
      "metadata": {
        "id": "-uKQL84lZ4sm"
      },
      "execution_count": 11,
      "outputs": []
    },
    {
      "cell_type": "code",
      "source": [
        "# --- Agente 4: Revisor de Conteúdo sobre Golpes e Fraudes ---\n",
        "def agente_revisor_fraudes(topico, posts_redes_sociais):\n",
        "    revisor = Agent(\n",
        "        name=\"agente_revisor_fraudes\",\n",
        "        model=\"gemini-2.0-flash\",\n",
        "        instruction=\"\"\"\n",
        "            Você é um revisor especializado em conteúdo educativo sobre golpes e fraudes para redes sociais.\n",
        "            Sua tarefa é revisar os posts gerados para diferentes plataformas, garantindo que sejam precisos, claros, concisos, envolventes e adequados para o público, com ênfase na proteção contra golpes.\n",
        "\n",
        "            Para cada post, verifique os seguintes aspectos:\n",
        "\n",
        "            1.  Precisão das Informações: As informações sobre o golpe ou fraude estão corretas e atualizadas? Há alguma informação enganosa ou imprecisa?\n",
        "            2.  Clareza e Concisão: A linguagem utilizada é clara e fácil de entender para um público amplo, incluindo idosos? As frases são concisas e diretas?\n",
        "            3.  Engajamento: O post é envolvente e tem potencial para gerar interação (compartilhamentos, comentários, etc.)? Há alguma chamada para ação clara?\n",
        "            4.  Adequação à Plataforma: O formato e o estilo do post são adequados para a rede social em questão (Twitter, Facebook, Instagram, etc.)? O uso de hashtags e emojis é apropriado?\n",
        "            5.  Tom de Voz: O tom de voz é informativo, empático e adequado para alertar sobre os perigos de golpes e fraudes?\n",
        "            6.  Prevenção e Proteção: O post destaca claramente as formas de prevenção e proteção contra o golpe ou fraude em questão? As dicas são práticas e acionáveis?\n",
        "            7.  Impacto Educacional: O post cumpre seu objetivo de educar e conscientizar o público sobre os riscos de golpes e fraudes?\n",
        "\n",
        "            Para cada post revisado, forneça um feedback detalhado, indicando os pontos fortes e sugerindo melhorias específicas para aumentar a clareza, a precisão e o impacto educativo.\n",
        "\n",
        "            Retorne os posts revisados com suas sugestões.\n",
        "            \"\"\",\n",
        "        description=\"Agente revisor de conteúdo educativo sobre golpes e fraudes para redes sociais\",\n",
        "    )\n",
        "    entrada_do_agente_revisor = f\"Tópico: {topico}\\nPosts para revisão: {posts_redes_sociais}\"\n",
        "    posts_revisados = call_agent(revisor, entrada_do_agente_revisor)\n",
        "    return posts_revisados\n",
        "\n",
        "def criar_conteudo_educativo_fraudes():\n",
        "    data_de_hoje = date.today().strftime(\"%d/%m/%Y\")\n",
        "\n",
        "    print(\"🚨 Iniciando o Sistema de Criação de Conteúdo Educativo sobre Golpes e Fraudes 🚨\")\n",
        "\n",
        "    # --- Obter o Tópico do Usuário ---\n",
        "    topico = input(\"❓ Por favor, digite o TÓPICO sobre o qual você quer criar conteúdo educativo (ex: 'Golpe do Pix', 'Phishing', 'Fraudes em Investimentos'): \")\n",
        "\n",
        "    if not topico:\n",
        "        print(\"Você esqueceu de digitar o tópico!\")\n",
        "        return  # Encerra a função se o tópico estiver vazio\n",
        "    else:\n",
        "        print(f\"Maravilha! Vamos criar conteúdo educativo sobre: {topico}\")\n",
        "\n",
        "    # --- Chamar os Agentes em Sequência ---\n",
        "\n",
        "    # Agente 1: Buscador de Fraudes\n",
        "    informacoes_buscadas = agente_buscador_fraudes(topico, data_de_hoje) # Passando topico e data para o agente buscador\n",
        "    print(\"\\n--- Resultado do Agente 1 (Buscador) ---\\n\")\n",
        "    display(to_markdown(informacoes_buscadas))  # Exibe a saída formatada\n",
        "    print(\"---------------------------------------------\\n\")\n",
        "\n",
        "    # Agente 2: Educador de Fraudes\n",
        "    plano_de_post = agente_educador_fraudes(topico, informacoes_buscadas)\n",
        "    print(\"\\n--- Resultado do Agente 2 (Educador) ---\\n\")\n",
        "    display(to_markdown(plano_de_post))\n",
        "    print(\"---------------------------------------------\\n\")\n",
        "\n",
        "    # Agente 3: Redator de Redes Sociais\n",
        "    posts_redes_sociais = agente_redator_redes_sociais(topico, plano_de_post)\n",
        "    print(\"\\n--- Resultado do Agente 3 (Redator) ---\\n\")\n",
        "    display(to_markdown(posts_redes_sociais))\n",
        "    print(\"---------------------------------------------\\n\")\n",
        "\n",
        "    # Agente 4: Revisor de Conteúdo sobre Fraudes\n",
        "    posts_revisados = agente_revisor_fraudes(topico, posts_redes_sociais)\n",
        "    print(\"\\n--- Resultado do Agente 4 (Revisor) ---\\n\")\n",
        "    display(to_markdown(posts_revisados))\n",
        "    print(\"---------------------------------------------\\n\")\n",
        "\n",
        "    print(\"✅ Conteúdo educativo sobre golpes e fraudes gerado com sucesso!\")\n",
        "\n",
        "# Chamar a função principal para executar o sistema\n",
        "criar_conteudo_educativo_fraudes()"
      ],
      "metadata": {
        "colab": {
          "base_uri": "https://localhost:8080/",
          "height": 1000
        },
        "id": "eEm2SneKaGWn",
        "outputId": "41b19461-6e2b-4776-c6f4-814611871645"
      },
      "execution_count": 12,
      "outputs": [
        {
          "output_type": "stream",
          "name": "stdout",
          "text": [
            "🚨 Iniciando o Sistema de Criação de Conteúdo Educativo sobre Golpes e Fraudes 🚨\n",
            "❓ Por favor, digite o TÓPICO sobre o qual você quer criar conteúdo educativo (ex: 'Golpe do Pix', 'Phishing', 'Fraudes em Investimentos'): como previnir ligaçoes indesejadas \n",
            "Maravilha! Vamos criar conteúdo educativo sobre: como previnir ligaçoes indesejadas \n",
            "\n",
            "--- Resultado do Agente 1 (Buscador) ---\n",
            "\n"
          ]
        },
        {
          "output_type": "display_data",
          "data": {
            "text/plain": [
              "<IPython.core.display.Markdown object>"
            ],
            "text/markdown": "> Olá! Para te ajudar a prevenir ligações indesejadas, realizei algumas pesquisas no Google. Veja o que encontrei:\n> \n> \n> Para prevenir ligações indesejadas de telemarketing e spam, você pode seguir as seguintes dicas e utilizar as ferramentas disponíveis:\n> \n> 1.  **Cadastro no \"Não Me Perturbe\" da Anatel**:\n>     *   Acesse o site do Não Me Perturbe.\n>     *   Cadastre-se na plataforma, informando seus dados como nome, sobrenome e CPF.\n>     *   Escolha o método de cadastro (e-mail, número de telefone ou telefone fixo) e crie uma senha.\n>     *   Após a confirmação do cadastro, você pode bloquear as empresas de telemarketing que deseja evitar.\n>     *   O bloqueio é efetivado em até 30 dias.\n>     *   A plataforma é uma iniciativa de autorregulação das operadoras para melhorar a relação com os consumidores.\n> 2.  **Cadastro no Procon**:\n>     *   Acesse a plataforma do Procon do seu estado para verificar a disponibilidade do serviço.\n>     *   Preencha um cadastro simples com informações como nome, RG, CPF e endereço.\n>     *   Em alguns estados, como Minas Gerais e Santa Catarina, o Procon oferece um sistema de bloqueio de telemarketing.\n>     *   O bloqueio é válido para ligações, e-mail, SMS e mensagens (spam).\n> 3.  **Bloqueio direto no celular**:\n>     *   **Android**:\n>         *   Abra o discador do telefone e clique nos três pontos verticais.\n>         *   Selecione \"Configurações\" e clique em \"Números bloqueados\".\n>         *   Adicione o número que deseja bloquear ou ative a identificação de número de SPAM.\n>         *   Outra opção é acessar o histórico de chamadas recebidas e bloquear o número indesejado.\n>     *   **iPhone**:\n>         *   Instale aplicativos de bloqueio como TrueCaller ou Hiya.\n>         *   Acesse os ajustes do iPhone, clique em \"Telefone\" e habilite o app instalado na opção \"Bloqueio e identificação\".\n> 4.  **Utilização de aplicativos de terceiros**:\n>     *   Existem diversos aplicativos que identificam e bloqueiam chamadas de spam, como Truecaller, Hiya, Bloqueador de Chamadas, Call Blocker e Whoscall.\n>     *   Esses aplicativos possuem bancos de dados com números de spam e permitem criar listas de bloqueio personalizadas.\n>     *   Alguns aplicativos, como o Truecaller, identificam de onde são as chamadas e bloqueiam SMS também.\n> 5.  **Denúncia de ligações de spam**:\n>     *   Denuncie ligações indesejadas através do Não Me Perturbe e nos canais de atendimento da Anatel.\n> 6.  **Outras dicas**:\n>     *   Ative o filtro de chamadas de spam nas configurações do seu celular Android.\n>     *   Use a função \"Silenciar Desconhecidos\" no iPhone para evitar chamadas de números desconhecidos.\n>     *   Bloqueie manualmente números de spam no seu dispositivo.\n>     *   Cadastre seu número em listas de contatos bloqueados.\n>     *   Considere obter um novo número de telefone ou um número virtual.\n> \n> **Observações Importantes:**\n> \n> *   O prefixo 0303 foi adicionado para identificar chamadas de telemarketing. A Anatel ampliou a obrigatoriedade do uso do prefixo 0303 para todas as organizações que realizam mais de 10 mil chamadas diárias a partir de 5 de janeiro de 2025.\n> *   Mesmo com o bloqueio, algumas empresas continuam ligando através de diferentes números. Se as ligações persistirem, denuncie as práticas abusivas aos Procons estaduais.\n> *   O \"Não Me Perturbe\" é eficaz para bloquear telemarketing de empresas de telecomunicações e instituições financeiras, mas não bloqueia ligações de outros setores.\n> *   A plataforma \"Não Me Perturbe\" fechou 2024 com quase 12,5 milhões de números cadastrados, indicando que é uma ferramenta popular para evitar chamadas indesejadas.\n> *   Se você não quiser mais usar o aplicativo de bloqueio, você pode removê-lo.\n> \n> Espero que estas informações te ajudem a reduzir o recebimento de ligações indesejadas!\n> \n"
          },
          "metadata": {}
        },
        {
          "output_type": "stream",
          "name": "stdout",
          "text": [
            "---------------------------------------------\n",
            "\n",
            "\n",
            "--- Resultado do Agente 2 (Educador) ---\n",
            "\n"
          ]
        },
        {
          "output_type": "display_data",
          "data": {
            "text/plain": [
              "<IPython.core.display.Markdown object>"
            ],
            "text/markdown": "> Aqui está um plano detalhado para uma série de posts educativos em redes sociais sobre como prevenir ligações indesejadas, com foco em acessibilidade e clareza para todos os públicos, incluindo idosos:\n> \n> **Tema Central:** Proteção contra Ligações Indesejadas e Spam\n> \n> **Público-Alvo:** Pessoas de todas as idades, com ênfase em idosos e pessoas menos familiarizadas com tecnologia.\n> \n> **Tom de Voz:** Claro, objetivo, informativo e empático. Linguagem simples, sem jargões técnicos.\n> \n> **Tópicos Específicos e Formatos de Posts:**\n> \n> 1.  **Post 1: \"Não Me Perturbe\": Sua Arma Contra o Telemarketing Abusivo**\n>     *   **Tópico:** O que é o \"Não Me Perturbe\" da Anatel e como ele pode te ajudar a bloquear ligações de telemarketing de empresas de telecomunicações e financeiras.\n>     *   **Formato:**\n>         *   Facebook/Instagram: Post curto e direto com um infográfico simples explicando o que é o \"Não Me Perturbe\".\n>         *   Twitter: Thread com frases curtas e links diretos para o site.\n>     *   **Recursos Visuais:** Infográfico com o logo do \"Não Me Perturbe\" e ícones representando ligações sendo bloqueadas.\n>     *   **Chamada para Ação:** \"Acesse o site do 'Não Me Perturbe' e cadastre seu número! Link na bio.\"\n> \n> 2.  **Post 2: Cadastro no \"Não Me Perturbe\": Um Passo a Passo Simples**\n>     *   **Tópico:** Como se cadastrar no \"Não Me Perturbe\" da Anatel: um guia passo a passo detalhado e fácil de seguir.\n>     *   **Formato:**\n>         *   Facebook/Instagram: Post com um carrossel de imagens (Instagram) ou um guia visual (Facebook) mostrando cada etapa do cadastro.\n>         *   YouTube/TikTok: Vídeo curto (1-2 minutos) com uma demonstração prática do cadastro no site.\n>     *   **Recursos Visuais:** Prints de tela do site do \"Não Me Perturbe\" com setas e destaques indicando onde clicar.\n>     *   **Chamada para Ação:** \"Compartilhe este guia com seus amigos e familiares que precisam se proteger de ligações indesejadas!\"\n> \n> 3.  **Post 3: Procon ao seu Lado: Bloqueando Ligações em Nível Estadual**\n>     *   **Tópico:** Como verificar se o Procon do seu estado oferece um serviço de bloqueio de telemarketing e como se cadastrar.\n>     *   **Formato:**\n>         *   Facebook/Instagram: Post informativo com um mapa do Brasil destacando os estados que oferecem o serviço.\n>         *   Blog: Artigo detalhado com links para os sites dos Procons de cada estado.\n>     *   **Recursos Visuais:** Mapa do Brasil, logos dos Procons estaduais.\n>     *   **Chamada para Ação:** \"Acesse o site do Procon do seu estado e descubra se você pode bloquear ligações por lá! Deixe um comentário se precisar de ajuda.\"\n> \n> 4.  **Post 4: Bloqueio Direto no Celular: Android e iPhone**\n>     *   **Tópico:** Como bloquear números de telefone diretamente no seu celular (Android e iPhone), com instruções claras e fáceis de seguir.\n>     *   **Formato:**\n>         *   Facebook/Instagram: Dois posts separados, um para Android e outro para iPhone, com imagens ilustrativas.\n>         *   YouTube/TikTok: Vídeos curtos demonstrando o processo em cada sistema operacional.\n>     *   **Recursos Visuais:** Prints de tela dos celulares Android e iPhone mostrando onde clicar para bloquear números.\n>     *   **Chamada para Ação:** \"Marque um amigo que precisa aprender a bloquear números no celular!\"\n> \n> 5.  **Post 5: Apps que Salvam: Identificando e Bloqueando Spams Automaticamente**\n>     *   **Tópico:** Apresentação de aplicativos de terceiros que identificam e bloqueiam chamadas de spam, como Truecaller e Hiya.\n>     *   **Formato:**\n>         *   Facebook/Instagram: Post com um comparativo dos principais aplicativos, destacando seus recursos e benefícios.\n>         *   Blog: Review detalhado de cada aplicativo, com links para download.\n>     *   **Recursos Visuais:** Logos dos aplicativos, prints de tela mostrando a identificação de chamadas de spam.\n>     *   **Chamada para Ação:** \"Você usa algum desses aplicativos? Compartilhe sua experiência nos comentários!\"\n> \n> 6.  **Post 6: Denuncie! Sua Voz Contra o Abuso**\n>     *   **Tópico:** Como denunciar ligações de spam através do \"Não Me Perturbe\" e nos canais de atendimento da Anatel.\n>     *   **Formato:**\n>         *   Facebook/Instagram: Post curto e direto com os links e telefones para denúncia.\n>         *   Twitter: Thread com informações concisas sobre como denunciar.\n>     *   **Recursos Visuais:** Ícones representando telefones e megafones.\n>     *   **Chamada para Ação:** \"Não se cale! Denuncie as ligações de spam e ajude a combater o telemarketing abusivo.\"\n> \n> 7.  **Post 7: Dicas Extras para se Proteger**\n>     *   **Tópico:** Outras dicas úteis para evitar ligações indesejadas, como ativar o filtro de chamadas de spam no Android e usar a função \"Silenciar Desconhecidos\" no iPhone.\n>     *   **Formato:**\n>         *   Facebook/Instagram: Lista com as dicas em formato de texto ou infográfico.\n>     *   **Recursos Visuais:** Ícones representando cada dica (ex: um filtro para o filtro de chamadas, um megafone silenciado para \"Silenciar Desconhecidos\").\n>     *   **Chamada para Ação:** \"Qual dessas dicas você já usa? Compartilhe suas próprias dicas nos comentários!\"\n> \n> 8.  **Post 8: Alerta! Entenda o Prefixo 0303**\n>     *   **Tópico:** Explicação sobre o prefixo 0303, que identifica chamadas de telemarketing, e como ele pode te ajudar a identificar e evitar essas ligações.\n>     *   **Formato:**\n>         *   Facebook/Instagram: Post informativo com um design chamativo destacando o prefixo 0303.\n>     *   **Recursos Visuais:** Imagem de um telefone com o prefixo 0303 em destaque.\n>     *   **Chamada para Ação:** \"Fique atento! Se você vir o prefixo 0303, já sabe que é telemarketing.\"\n> \n> **Observações Importantes:**\n> \n> *   **Adaptação para Idosos:** Use fontes grandes e claras, evite cores que dificultem a leitura e explique cada passo de forma detalhada e paciente.\n> *   **Inclusão Digital:** Ofereça versões em áudio dos posts para pessoas com dificuldades de leitura.\n> *   **Atualização Constante:** Mantenha os posts atualizados com as últimas informações e ferramentas disponíveis para combater o telemarketing abusivo.\n> *   **Interação:** Responda a todos os comentários e dúvidas do público, criando um senso de comunidade e confiança.\n> \n> Este plano detalhado oferece uma estrutura abrangente para educar o público sobre como se proteger de ligações indesejadas. Ao adaptar os posts para diferentes formatos e públicos, você pode garantir que a informação chegue a todos de forma clara e acessível.\n"
          },
          "metadata": {}
        },
        {
          "output_type": "stream",
          "name": "stdout",
          "text": [
            "---------------------------------------------\n",
            "\n",
            "\n",
            "--- Resultado do Agente 3 (Redator) ---\n",
            "\n"
          ]
        },
        {
          "output_type": "display_data",
          "data": {
            "text/plain": [
              "<IPython.core.display.Markdown object>"
            ],
            "text/markdown": "> Ok, aqui estão os posts para cada rede social, baseados no plano fornecido para o Post 1: \"Não Me Perturbe\": Sua Arma Contra o Telemarketing Abusivo:\n> \n> **Post 1: \"Não Me Perturbe\": Sua Arma Contra o Telemarketing Abusivo**\n> \n> *   **Tópico:** O que é o \"Não Me Perturbe\" da Anatel e como ele pode te ajudar a bloquear ligações de telemarketing de empresas de telecomunicações e financeiras.\n> \n> **Twitter:**\n> \n> > Cansado de ligações de telemarketing? 😠 Conheça o \"Não Me Perturbe\" da Anatel! 🛡️ Bloqueie empresas de telefonia e bancos de te importunarem. ➡️ Cadastre-se agora: [Link encurtado para o site] #NãoMePerturbe #Telemarketing #Anatel #BloquearLigações\n> \n> **Facebook:**\n> \n> >  Você sabia que pode se livrar das ligações indesejadas de telemarketing de empresas de telefonia e bancos? 🤩 A Anatel criou o serviço \"Não Me Perturbe\", uma ferramenta gratuita que permite bloquear essas empresas de entrarem em contato com você.\n> >\n> >  Acesse o site, cadastre seu número e diga adeus às chamadas inconvenientes! 😉\n> >\n> >  [Infográfico simples explicando o que é o \"Não Me Perturbe\"]\n> >\n> >  Saiba mais e cadastre-se aqui: [Link para o site \"Não Me Perturbe\"]\n> >\n> >  #NãoMePerturbe #Telemarketing #Anatel #BloquearLigações #Proteção #LigaçõesIndesejadas #Dica\n> \n> **Instagram:**\n> \n> >  [Imagem: Infográfico com o logo do \"Não Me Perturbe\" e ícones representando ligações sendo bloqueadas]\n> >\n> >  Chega de ser incomodado por telemarketing! 😤 O \"Não Me Perturbe\" da Anatel te ajuda a bloquear ligações de empresas de telefonia e financeiras. 🚫\n> >\n> >  É fácil, gratuito e funciona! ✅\n> >\n> >  Acesse o link na bio e cadastre seu número! 🔗\n> >\n> >  #NãoMePerturbe #Telemarketing #Anatel #BloquearLigações #Proteção #LigaçõesIndesejadas #Dica #Spam #Celular #Brasil #Anatel\n"
          },
          "metadata": {}
        },
        {
          "output_type": "stream",
          "name": "stdout",
          "text": [
            "---------------------------------------------\n",
            "\n",
            "\n",
            "--- Resultado do Agente 4 (Revisor) ---\n",
            "\n"
          ]
        },
        {
          "output_type": "display_data",
          "data": {
            "text/plain": [
              "<IPython.core.display.Markdown object>"
            ],
            "text/markdown": "> ## Revisão dos Posts: \"Não Me Perturbe\": Sua Arma Contra o Telemarketing Abusivo\n> \n> **Análise Geral:**\n> \n> Os posts estão bons e cumprem o objetivo de informar sobre o \"Não Me Perturbe\". No entanto, podemos otimizar cada um para aumentar o engajamento e a clareza, especialmente para públicos menos familiarizados com o tema (como idosos). É importante garantir que a linguagem seja acessível e que as instruções sejam claras.\n> \n> **Twitter:**\n> \n> *   **Pontos Fortes:** Conciso e direto, usa emojis para chamar a atenção.\n> *   **Sugestões:**\n>     *   Adicionar um verbo de ação mais forte, como \"Livre-se\" ou \"Acabe\" em vez de \"Conheça\".\n>     *   Substituir \"te importunarem\" por algo mais direto como \"ligarem sem parar\".\n>     *   Trocar o emoji de raiva (😠) por um mais amigável e menos agressivo, como um de alívio (😌) ou um rosto pensativo (🤔).\n>     *   Incluir um call to action ainda mais direto: \"Livre-se do telemarketing! Cadastre-se AGORA no 'Não Me Perturbe' da Anatel!\".\n> *   **Post Revisado:** \"Livre-se do telemarketing! 😌 Cadastre-se AGORA no 'Não Me Perturbe' da Anatel! 🛡️ Bloqueie telefonia e bancos de ligarem sem parar. ➡️ [Link] #NãoMePerturbe #Telemarketing #Anatel\"\n> \n> **Facebook:**\n> \n> *   **Pontos Fortes:** Mais detalhado que o post do Twitter, explica o serviço e oferece um infográfico.\n> *   **Sugestões:**\n>     *   Usar linguagem mais acessível. Em vez de \"ferramenta gratuita que permite bloquear essas empresas de entrarem em contato com você\", usar algo como \"jeito grátis de impedir que essas empresas te liguem\".\n>     *   O infográfico é crucial. Garantir que ele seja visualmente claro e fácil de entender, com textos curtos e explicativos.\n>     *   Adicionar um exemplo de como o serviço \"Não Me Perturbe\" pode melhorar a vida do usuário (ex: \"Imagine ter mais paz e sossego em casa!\").\n>     *   Incluir um call to action mais direto no meio do texto, além do final.\n> *   **Post Revisado:**\n>     > Cansado de receber ligações de telemarketing de bancos e operadoras? 🤩 Sabia que a Anatel criou um jeito GRÁTIS de impedir que essas empresas te liguem? É o serviço \"Não Me Perturbe\"! Imagine ter mais paz e sossego em casa! 😉\n>     >\n>     > Acesse o site, cadastre seu número e diga adeus às chamadas inconvenientes! ✅ [Link para o site \"Não Me Perturbe\"]\n>     >\n>     > [Infográfico simples explicando o que é o \"Não Me Perturbe\"]\n>     >\n>     > Saiba mais e cadastre-se aqui: [Link para o site \"Não Me Perturbe\"]\n>     >\n>     > #NãoMePerturbe #Telemarketing #Anatel #BloquearLigações #Proteção #LigaçõesIndesejadas #Dica\n> \n> **Instagram:**\n> \n> *   **Pontos Fortes:** Visualmente atraente (com o infográfico) e usa emojis.\n> *   **Sugestões:**\n>     *   O texto deve ser mais direto. Em vez de \"Chega de ser incomodado por telemarketing!\", usar algo como \"Se livre das ligações de telemarketing!\".\n>     *   Reforçar a gratuidade do serviço.\n>     *   No Instagram, o link na bio é fundamental. Garantir que ele esteja sempre atualizado.\n>     *   Adicionar um call to action mais específico na legenda: \"Clique no link da bio e cadastre seu número AGORA para bloquear as ligações!\".\n> *   **Post Revisado:**\n>     > [Imagem: Infográfico com o logo do \"Não Me Perturbe\" e ícones representando ligações sendo bloqueadas]\n>     >\n>     > Se livre das ligações de telemarketing! 😤 O \"Não Me Perturbe\" da Anatel te ajuda a bloquear ligações de empresas de telefonia e financeiras. 🚫 É GRÁTIS e funciona! ✅\n>     >\n>     > Clique no link da bio e cadastre seu número AGORA para bloquear as ligações! 🔗\n>     >\n>     > #NãoMePerturbe #Telemarketing #Anatel #BloquearLigações #Proteção #LigaçõesIndesejadas #Dica #Spam #Celular #Brasil #Anatel\n> \n> **Considerações Adicionais:**\n> \n> *   **Público-Alvo:** Considerar que muitos idosos podem não estar familiarizados com o termo \"Anatel\".  Em algumas postagens, pode ser útil explicar brevemente o que é a Anatel (Agência Nacional de Telecomunicações) para aumentar a compreensão.\n> *   **Testes A/B:** Realizar testes A/B com diferentes versões dos posts para identificar o que gera mais engajamento.\n> *   **Monitoramento:** Monitorar os comentários e mensagens para responder a dúvidas e fornecer suporte aos usuários.\n> \n> Ao implementar essas sugestões, você pode aumentar a eficácia dos posts e alcançar um público maior, ajudando mais pessoas a se protegerem contra o telemarketing abusivo.\n> \n"
          },
          "metadata": {}
        },
        {
          "output_type": "stream",
          "name": "stdout",
          "text": [
            "---------------------------------------------\n",
            "\n",
            "✅ Conteúdo educativo sobre golpes e fraudes gerado com sucesso!\n"
          ]
        }
      ]
    },
    {
      "cell_type": "code",
      "source": [],
      "metadata": {
        "id": "6ohhAVqhaIta"
      },
      "execution_count": null,
      "outputs": []
    }
  ]
}
